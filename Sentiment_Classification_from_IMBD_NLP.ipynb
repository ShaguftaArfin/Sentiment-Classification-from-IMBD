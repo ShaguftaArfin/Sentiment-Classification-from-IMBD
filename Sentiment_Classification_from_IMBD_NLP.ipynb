{
  "nbformat": 4,
  "nbformat_minor": 0,
  "metadata": {
    "colab": {
      "name": "Sentiment Classification from IMBD_NLP.ipynb",
      "provenance": []
    },
    "kernelspec": {
      "name": "python3",
      "display_name": "Python 3"
    },
    "language_info": {
      "name": "python"
    }
  },
  "cells": [
    {
      "cell_type": "code",
      "execution_count": null,
      "metadata": {
        "id": "-sOelCkghfRi"
      },
      "outputs": [],
      "source": [
        "import pandas as pd\n",
        "import numpy as np\n",
        "import re\n",
        "import nltk\n",
        "from nltk.corpus import stopwords\n",
        "\n",
        "from numpy import array\n",
        "from keras.preprocessing.text import one_hot\n",
        "from keras.preprocessing.sequence import pad_sequences\n",
        "from keras.models import Sequential\n",
        "from keras.layers.core import Activation, Dropout, Dense\n",
        "from keras.layers import Flatten\n",
        "from keras.layers import GlobalMaxPooling1D\n",
        "from keras.layers.embeddings import Embedding\n",
        "from sklearn.model_selection import train_test_split\n",
        "from keras.preprocessing.text import Tokenizer"
      ]
    },
    {
      "cell_type": "code",
      "source": [
        "movie_reviews = pd.read_csv(\"/content/IMDB Dataset.csv\")\n",
        "\n",
        "movie_reviews.isnull().values.any()\n",
        "\n",
        "movie_reviews.shape"
      ],
      "metadata": {
        "colab": {
          "base_uri": "https://localhost:8080/"
        },
        "id": "-Cx21XlQiG8Y",
        "outputId": "a6e84ce2-f428-4e0d-f6b5-70e14167d391"
      },
      "execution_count": null,
      "outputs": [
        {
          "output_type": "execute_result",
          "data": {
            "text/plain": [
              "(50000, 2)"
            ]
          },
          "metadata": {},
          "execution_count": 2
        }
      ]
    },
    {
      "cell_type": "code",
      "source": [
        "movie_reviews.head()"
      ],
      "metadata": {
        "colab": {
          "base_uri": "https://localhost:8080/",
          "height": 206
        },
        "id": "Elmtf4x-iG_s",
        "outputId": "8275a2ea-c2fc-4c92-fb2d-24b44b3ede23"
      },
      "execution_count": null,
      "outputs": [
        {
          "output_type": "execute_result",
          "data": {
            "text/html": [
              "\n",
              "  <div id=\"df-84ffea98-a8a5-42ad-a804-3e9d6889c66f\">\n",
              "    <div class=\"colab-df-container\">\n",
              "      <div>\n",
              "<style scoped>\n",
              "    .dataframe tbody tr th:only-of-type {\n",
              "        vertical-align: middle;\n",
              "    }\n",
              "\n",
              "    .dataframe tbody tr th {\n",
              "        vertical-align: top;\n",
              "    }\n",
              "\n",
              "    .dataframe thead th {\n",
              "        text-align: right;\n",
              "    }\n",
              "</style>\n",
              "<table border=\"1\" class=\"dataframe\">\n",
              "  <thead>\n",
              "    <tr style=\"text-align: right;\">\n",
              "      <th></th>\n",
              "      <th>review</th>\n",
              "      <th>sentiment</th>\n",
              "    </tr>\n",
              "  </thead>\n",
              "  <tbody>\n",
              "    <tr>\n",
              "      <th>0</th>\n",
              "      <td>One of the other reviewers has mentioned that ...</td>\n",
              "      <td>positive</td>\n",
              "    </tr>\n",
              "    <tr>\n",
              "      <th>1</th>\n",
              "      <td>A wonderful little production. &lt;br /&gt;&lt;br /&gt;The...</td>\n",
              "      <td>positive</td>\n",
              "    </tr>\n",
              "    <tr>\n",
              "      <th>2</th>\n",
              "      <td>I thought this was a wonderful way to spend ti...</td>\n",
              "      <td>positive</td>\n",
              "    </tr>\n",
              "    <tr>\n",
              "      <th>3</th>\n",
              "      <td>Basically there's a family where a little boy ...</td>\n",
              "      <td>negative</td>\n",
              "    </tr>\n",
              "    <tr>\n",
              "      <th>4</th>\n",
              "      <td>Petter Mattei's \"Love in the Time of Money\" is...</td>\n",
              "      <td>positive</td>\n",
              "    </tr>\n",
              "  </tbody>\n",
              "</table>\n",
              "</div>\n",
              "      <button class=\"colab-df-convert\" onclick=\"convertToInteractive('df-84ffea98-a8a5-42ad-a804-3e9d6889c66f')\"\n",
              "              title=\"Convert this dataframe to an interactive table.\"\n",
              "              style=\"display:none;\">\n",
              "        \n",
              "  <svg xmlns=\"http://www.w3.org/2000/svg\" height=\"24px\"viewBox=\"0 0 24 24\"\n",
              "       width=\"24px\">\n",
              "    <path d=\"M0 0h24v24H0V0z\" fill=\"none\"/>\n",
              "    <path d=\"M18.56 5.44l.94 2.06.94-2.06 2.06-.94-2.06-.94-.94-2.06-.94 2.06-2.06.94zm-11 1L8.5 8.5l.94-2.06 2.06-.94-2.06-.94L8.5 2.5l-.94 2.06-2.06.94zm10 10l.94 2.06.94-2.06 2.06-.94-2.06-.94-.94-2.06-.94 2.06-2.06.94z\"/><path d=\"M17.41 7.96l-1.37-1.37c-.4-.4-.92-.59-1.43-.59-.52 0-1.04.2-1.43.59L10.3 9.45l-7.72 7.72c-.78.78-.78 2.05 0 2.83L4 21.41c.39.39.9.59 1.41.59.51 0 1.02-.2 1.41-.59l7.78-7.78 2.81-2.81c.8-.78.8-2.07 0-2.86zM5.41 20L4 18.59l7.72-7.72 1.47 1.35L5.41 20z\"/>\n",
              "  </svg>\n",
              "      </button>\n",
              "      \n",
              "  <style>\n",
              "    .colab-df-container {\n",
              "      display:flex;\n",
              "      flex-wrap:wrap;\n",
              "      gap: 12px;\n",
              "    }\n",
              "\n",
              "    .colab-df-convert {\n",
              "      background-color: #E8F0FE;\n",
              "      border: none;\n",
              "      border-radius: 50%;\n",
              "      cursor: pointer;\n",
              "      display: none;\n",
              "      fill: #1967D2;\n",
              "      height: 32px;\n",
              "      padding: 0 0 0 0;\n",
              "      width: 32px;\n",
              "    }\n",
              "\n",
              "    .colab-df-convert:hover {\n",
              "      background-color: #E2EBFA;\n",
              "      box-shadow: 0px 1px 2px rgba(60, 64, 67, 0.3), 0px 1px 3px 1px rgba(60, 64, 67, 0.15);\n",
              "      fill: #174EA6;\n",
              "    }\n",
              "\n",
              "    [theme=dark] .colab-df-convert {\n",
              "      background-color: #3B4455;\n",
              "      fill: #D2E3FC;\n",
              "    }\n",
              "\n",
              "    [theme=dark] .colab-df-convert:hover {\n",
              "      background-color: #434B5C;\n",
              "      box-shadow: 0px 1px 3px 1px rgba(0, 0, 0, 0.15);\n",
              "      filter: drop-shadow(0px 1px 2px rgba(0, 0, 0, 0.3));\n",
              "      fill: #FFFFFF;\n",
              "    }\n",
              "  </style>\n",
              "\n",
              "      <script>\n",
              "        const buttonEl =\n",
              "          document.querySelector('#df-84ffea98-a8a5-42ad-a804-3e9d6889c66f button.colab-df-convert');\n",
              "        buttonEl.style.display =\n",
              "          google.colab.kernel.accessAllowed ? 'block' : 'none';\n",
              "\n",
              "        async function convertToInteractive(key) {\n",
              "          const element = document.querySelector('#df-84ffea98-a8a5-42ad-a804-3e9d6889c66f');\n",
              "          const dataTable =\n",
              "            await google.colab.kernel.invokeFunction('convertToInteractive',\n",
              "                                                     [key], {});\n",
              "          if (!dataTable) return;\n",
              "\n",
              "          const docLinkHtml = 'Like what you see? Visit the ' +\n",
              "            '<a target=\"_blank\" href=https://colab.research.google.com/notebooks/data_table.ipynb>data table notebook</a>'\n",
              "            + ' to learn more about interactive tables.';\n",
              "          element.innerHTML = '';\n",
              "          dataTable['output_type'] = 'display_data';\n",
              "          await google.colab.output.renderOutput(dataTable, element);\n",
              "          const docLink = document.createElement('div');\n",
              "          docLink.innerHTML = docLinkHtml;\n",
              "          element.appendChild(docLink);\n",
              "        }\n",
              "      </script>\n",
              "    </div>\n",
              "  </div>\n",
              "  "
            ],
            "text/plain": [
              "                                              review sentiment\n",
              "0  One of the other reviewers has mentioned that ...  positive\n",
              "1  A wonderful little production. <br /><br />The...  positive\n",
              "2  I thought this was a wonderful way to spend ti...  positive\n",
              "3  Basically there's a family where a little boy ...  negative\n",
              "4  Petter Mattei's \"Love in the Time of Money\" is...  positive"
            ]
          },
          "metadata": {},
          "execution_count": 3
        }
      ]
    },
    {
      "cell_type": "code",
      "source": [
        "\n",
        "movie_reviews[\"review\"][3] #fourth row is print "
      ],
      "metadata": {
        "colab": {
          "base_uri": "https://localhost:8080/",
          "height": 105
        },
        "id": "QELcQkr7iHCY",
        "outputId": "36957efb-6cf8-4909-ab2f-2285502c0366"
      },
      "execution_count": null,
      "outputs": [
        {
          "output_type": "execute_result",
          "data": {
            "application/vnd.google.colaboratory.intrinsic+json": {
              "type": "string"
            },
            "text/plain": [
              "\"Basically there's a family where a little boy (Jake) thinks there's a zombie in his closet & his parents are fighting all the time.<br /><br />This movie is slower than a soap opera... and suddenly, Jake decides to become Rambo and kill the zombie.<br /><br />OK, first of all when you're going to make a film you must Decide if its a thriller or a drama! As a drama the movie is watchable. Parents are divorcing & arguing like in real life. And then we have Jake with his closet which totally ruins all the film! I expected to see a BOOGEYMAN similar movie, and instead i watched a drama with some meaningless thriller spots.<br /><br />3 out of 10 just for the well playing parents & descent dialogs. As for the shots with Jake: just ignore them.\""
            ]
          },
          "metadata": {},
          "execution_count": 4
        }
      ]
    },
    {
      "cell_type": "code",
      "source": [
        "import seaborn as sns\n",
        "\n",
        "sns.countplot(x='sentiment', data=movie_reviews)"
      ],
      "metadata": {
        "colab": {
          "base_uri": "https://localhost:8080/",
          "height": 296
        },
        "id": "LY04qWteiPCS",
        "outputId": "dcc3f189-06a8-4bc5-c8fa-16ada05a1afe"
      },
      "execution_count": null,
      "outputs": [
        {
          "output_type": "execute_result",
          "data": {
            "text/plain": [
              "<matplotlib.axes._subplots.AxesSubplot at 0x7f9125d485d0>"
            ]
          },
          "metadata": {},
          "execution_count": 5
        },
        {
          "output_type": "display_data",
          "data": {
            "image/png": "[encoded data removed]",
            "text/plain": [
              "<Figure size 432x288 with 1 Axes>"
            ]
          },
          "metadata": {
            "needs_background": "light"
          }
        }
      ]
    },
    {
      "cell_type": "markdown",
      "source": [
        "## Data Preprocessing"
      ],
      "metadata": {
        "id": "AZ7YElBllAcR"
      }
    },
    {
      "cell_type": "code",
      "source": [
        "def preprocess_text(sen):\n",
        "    # Removing html tags\n",
        "    sentence = remove_tags(sen)\n",
        "\n",
        "    # Remove punctuations and numbers\n",
        "    sentence = re.sub('[^a-zA-Z]', ' ', sentence)\n",
        "\n",
        "    # Single character removal\n",
        "    sentence = re.sub(r\"\\s+[a-zA-Z]\\s+\", ' ', sentence)\n",
        "\n",
        "    # Removing multiple spaces\n",
        "    sentence = re.sub(r'\\s+', ' ', sentence)\n",
        "\n",
        "    return sentence"
      ],
      "metadata": {
        "id": "LLEf0iv3iO-i"
      },
      "execution_count": null,
      "outputs": []
    },
    {
      "cell_type": "code",
      "source": [
        "TAG_RE = re.compile(r'<[^>]+>')\n",
        "\n",
        "def remove_tags(text):\n",
        "    return TAG_RE.sub('', text)"
      ],
      "metadata": {
        "id": "wFNqw28GigAW"
      },
      "execution_count": null,
      "outputs": []
    },
    {
      "cell_type": "code",
      "source": [
        "X = []\n",
        "sentences = list(movie_reviews['review'])\n",
        "for sen in sentences:\n",
        "    X.append(preprocess_text(sen))"
      ],
      "metadata": {
        "id": "L1DOTWmwiipG"
      },
      "execution_count": null,
      "outputs": []
    },
    {
      "cell_type": "code",
      "source": [
        "X[3]"
      ],
      "metadata": {
        "colab": {
          "base_uri": "https://localhost:8080/",
          "height": 88
        },
        "id": "Hgqd2bs7iimE",
        "outputId": "52aeba10-c254-4568-f93a-3688f1e3824d"
      },
      "execution_count": null,
      "outputs": [
        {
          "output_type": "execute_result",
          "data": {
            "application/vnd.google.colaboratory.intrinsic+json": {
              "type": "string"
            },
            "text/plain": [
              "'Basically there a family where little boy Jake thinks there a zombie in his closet his parents are fighting all the time This movie is slower than soap opera and suddenly Jake decides to become Rambo and kill the zombie OK first of all when you re going to make film you must Decide if its thriller or drama As drama the movie is watchable Parents are divorcing arguing like in real life And then we have Jake with his closet which totally ruins all the film expected to see BOOGEYMAN similar movie and instead watched drama with some meaningless thriller spots out of just for the well playing parents descent dialogs As for the shots with Jake just ignore them '"
            ]
          },
          "metadata": {},
          "execution_count": 9
        }
      ]
    },
    {
      "cell_type": "code",
      "source": [
        "y = movie_reviews['sentiment']\n",
        "\n",
        "y = np.array(list(map(lambda x: 1 if x==\"positive\" else 0, y)))"
      ],
      "metadata": {
        "id": "zeEbVo1hiijD"
      },
      "execution_count": null,
      "outputs": []
    },
    {
      "cell_type": "code",
      "source": [
        "X_train, X_test, y_train, y_test = train_test_split(X, y, test_size=0.20, random_state=42)"
      ],
      "metadata": {
        "id": "jnua6dn1iifk"
      },
      "execution_count": null,
      "outputs": []
    },
    {
      "cell_type": "markdown",
      "source": [
        "## Preparing the Embedding Layer\n"
      ],
      "metadata": {
        "id": "YvCChY70mxB_"
      }
    },
    {
      "cell_type": "code",
      "source": [
        "tokenizer = Tokenizer(num_words=5000)\n",
        "tokenizer.fit_on_texts(X_train)\n",
        "\n",
        "X_train = tokenizer.texts_to_sequences(X_train)\n",
        "X_test = tokenizer.texts_to_sequences(X_test)"
      ],
      "metadata": {
        "id": "3PJFUEt6iO0n"
      },
      "execution_count": null,
      "outputs": []
    },
    {
      "cell_type": "code",
      "source": [
        "# Adding 1 because of reserved 0 index\n",
        "vocab_size = len(tokenizer.word_index) + 1\n",
        "\n",
        "maxlen = 100\n",
        "\n",
        "X_train = pad_sequences(X_train, padding='post', maxlen=maxlen)\n",
        "X_test = pad_sequences(X_test, padding='post', maxlen=maxlen)"
      ],
      "metadata": {
        "id": "HZX9FyA4igGx"
      },
      "execution_count": null,
      "outputs": []
    },
    {
      "cell_type": "markdown",
      "source": [
        "## Glove Embedding"
      ],
      "metadata": {
        "id": "JnvNmZPoo7XH"
      }
    },
    {
      "cell_type": "code",
      "source": [
        "from numpy import array\n",
        "from numpy import asarray\n",
        "from numpy import zeros\n",
        "\n",
        "embeddings_dictionary = dict()\n",
        "glove_file = open('/content/drive/MyDrive/glove.6B.50d.txt', encoding=\"utf8\")\n",
        "\n",
        "for line in glove_file:\n",
        "    records = line.split()\n",
        "    word = records[0]\n",
        "    vector_dimensions = asarray(records[1:], dtype='float32')\n",
        "    embeddings_dictionary [word] = vector_dimensions\n",
        "glove_file.close()"
      ],
      "metadata": {
        "id": "UAcQuTZJiOwA"
      },
      "execution_count": null,
      "outputs": []
    },
    {
      "cell_type": "code",
      "source": [
        "embedding_matrix = zeros((vocab_size, 50))\n",
        "for word, index in tokenizer.word_index.items():\n",
        "    embedding_vector = embeddings_dictionary.get(word)\n",
        "    if embedding_vector is not None:\n",
        "        embedding_matrix[index] = embedding_vector"
      ],
      "metadata": {
        "id": "uf5LvJNpi01M"
      },
      "execution_count": null,
      "outputs": []
    },
    {
      "cell_type": "markdown",
      "source": [
        "## Feed forward NN\n"
      ],
      "metadata": {
        "id": "ypA5JBtbiIS5"
      }
    },
    {
      "cell_type": "code",
      "source": [
        "model = Sequential()\n",
        "embedding_layer = Embedding(vocab_size, 50, weights=[embedding_matrix], input_length=maxlen , trainable=False)\n",
        "model.add(embedding_layer)\n",
        "\n",
        "model.add(Flatten())\n",
        "model.add(Dense(1, activation='sigmoid'))"
      ],
      "metadata": {
        "id": "bfRzEj0oi03w"
      },
      "execution_count": null,
      "outputs": []
    },
    {
      "cell_type": "code",
      "source": [
        "\n",
        "model.compile(optimizer='adam', loss='binary_crossentropy', metrics=['acc'])\n",
        "\n",
        "print(model.summary())"
      ],
      "metadata": {
        "colab": {
          "base_uri": "https://localhost:8080/"
        },
        "id": "1YFIjTTWi07C",
        "outputId": "d937adcc-7802-4f77-e212-31d77236758c"
      },
      "execution_count": null,
      "outputs": [
        {
          "output_type": "stream",
          "name": "stdout",
          "text": [
            "Model: \"sequential\"\n",
            "_________________________________________________________________\n",
            " Layer (type)                Output Shape              Param #   \n",
            "=================================================================\n",
            " embedding (Embedding)       (None, 100, 50)           4627350   \n",
            "                                                                 \n",
            " flatten (Flatten)           (None, 5000)              0         \n",
            "                                                                 \n",
            " dense (Dense)               (None, 1)                 5001      \n",
            "                                                                 \n",
            "=================================================================\n",
            "Total params: 4,632,351\n",
            "Trainable params: 5,001\n",
            "Non-trainable params: 4,627,350\n",
            "_________________________________________________________________\n",
            "None\n"
          ]
        }
      ]
    },
    {
      "cell_type": "code",
      "source": [
        "history = model.fit(X_train, y_train, batch_size=128, epochs=50, verbose=1, validation_split=0.2)"
      ],
      "metadata": {
        "colab": {
          "base_uri": "https://localhost:8080/"
        },
        "id": "P3CJS8-Zi7qN",
        "outputId": "457951f6-c1f5-4026-a5a1-1eda59c6ea32"
      },
      "execution_count": null,
      "outputs": [
        {
          "output_type": "stream",
          "name": "stdout",
          "text": [
            "Epoch 1/50\n",
            "250/250 [==============================] - 1s 4ms/step - loss: 0.4812 - acc: 0.7703 - val_loss: 0.5870 - val_acc: 0.7150\n",
            "Epoch 2/50\n",
            "250/250 [==============================] - 1s 3ms/step - loss: 0.4789 - acc: 0.7730 - val_loss: 0.5833 - val_acc: 0.7109\n",
            "Epoch 3/50\n",
            "250/250 [==============================] - 1s 3ms/step - loss: 0.4792 - acc: 0.7725 - val_loss: 0.6062 - val_acc: 0.7039\n",
            "Epoch 4/50\n",
            "250/250 [==============================] - 1s 3ms/step - loss: 0.4782 - acc: 0.7727 - val_loss: 0.5903 - val_acc: 0.7176\n",
            "Epoch 5/50\n",
            "250/250 [==============================] - 1s 3ms/step - loss: 0.4797 - acc: 0.7720 - val_loss: 0.5865 - val_acc: 0.7145\n",
            "Epoch 6/50\n",
            "250/250 [==============================] - 1s 3ms/step - loss: 0.4777 - acc: 0.7726 - val_loss: 0.5892 - val_acc: 0.7144\n",
            "Epoch 7/50\n",
            "250/250 [==============================] - 1s 3ms/step - loss: 0.4765 - acc: 0.7742 - val_loss: 0.5940 - val_acc: 0.7124\n",
            "Epoch 8/50\n",
            "250/250 [==============================] - 1s 3ms/step - loss: 0.4774 - acc: 0.7728 - val_loss: 0.6135 - val_acc: 0.7079\n",
            "Epoch 9/50\n",
            "250/250 [==============================] - 1s 3ms/step - loss: 0.4761 - acc: 0.7739 - val_loss: 0.5966 - val_acc: 0.7149\n",
            "Epoch 10/50\n",
            "250/250 [==============================] - 1s 3ms/step - loss: 0.4767 - acc: 0.7748 - val_loss: 0.6046 - val_acc: 0.7131\n",
            "Epoch 11/50\n",
            "250/250 [==============================] - 1s 3ms/step - loss: 0.4767 - acc: 0.7741 - val_loss: 0.5984 - val_acc: 0.7129\n",
            "Epoch 12/50\n",
            "250/250 [==============================] - 1s 3ms/step - loss: 0.4738 - acc: 0.7776 - val_loss: 0.6011 - val_acc: 0.7100\n",
            "Epoch 13/50\n",
            "250/250 [==============================] - 1s 3ms/step - loss: 0.4763 - acc: 0.7725 - val_loss: 0.5994 - val_acc: 0.7111\n",
            "Epoch 14/50\n",
            "250/250 [==============================] - 1s 3ms/step - loss: 0.4786 - acc: 0.7746 - val_loss: 0.5989 - val_acc: 0.7128\n",
            "Epoch 15/50\n",
            "250/250 [==============================] - 1s 3ms/step - loss: 0.4751 - acc: 0.7765 - val_loss: 0.6011 - val_acc: 0.7143\n",
            "Epoch 16/50\n",
            "250/250 [==============================] - 1s 3ms/step - loss: 0.4737 - acc: 0.7759 - val_loss: 0.6095 - val_acc: 0.7060\n",
            "Epoch 17/50\n",
            "250/250 [==============================] - 1s 3ms/step - loss: 0.4760 - acc: 0.7747 - val_loss: 0.6051 - val_acc: 0.7088\n",
            "Epoch 18/50\n",
            "250/250 [==============================] - 1s 3ms/step - loss: 0.4752 - acc: 0.7758 - val_loss: 0.6089 - val_acc: 0.7124\n",
            "Epoch 19/50\n",
            "250/250 [==============================] - 1s 3ms/step - loss: 0.4749 - acc: 0.7753 - val_loss: 0.6129 - val_acc: 0.7070\n",
            "Epoch 20/50\n",
            "250/250 [==============================] - 1s 3ms/step - loss: 0.4713 - acc: 0.7777 - val_loss: 0.6049 - val_acc: 0.7113\n",
            "Epoch 21/50\n",
            "250/250 [==============================] - 1s 3ms/step - loss: 0.4736 - acc: 0.7777 - val_loss: 0.6109 - val_acc: 0.7060\n",
            "Epoch 22/50\n",
            "250/250 [==============================] - 1s 4ms/step - loss: 0.4720 - acc: 0.7774 - val_loss: 0.6240 - val_acc: 0.7080\n",
            "Epoch 23/50\n",
            "250/250 [==============================] - 1s 3ms/step - loss: 0.4733 - acc: 0.7772 - val_loss: 0.6128 - val_acc: 0.7115\n",
            "Epoch 24/50\n",
            "250/250 [==============================] - 1s 3ms/step - loss: 0.4726 - acc: 0.7763 - val_loss: 0.6093 - val_acc: 0.7082\n",
            "Epoch 25/50\n",
            "250/250 [==============================] - 1s 3ms/step - loss: 0.4724 - acc: 0.7762 - val_loss: 0.6126 - val_acc: 0.7088\n",
            "Epoch 26/50\n",
            "250/250 [==============================] - 1s 3ms/step - loss: 0.4714 - acc: 0.7788 - val_loss: 0.6210 - val_acc: 0.7094\n",
            "Epoch 27/50\n",
            "250/250 [==============================] - 1s 3ms/step - loss: 0.4722 - acc: 0.7786 - val_loss: 0.6100 - val_acc: 0.7095\n",
            "Epoch 28/50\n",
            "250/250 [==============================] - 1s 3ms/step - loss: 0.4723 - acc: 0.7795 - val_loss: 0.6097 - val_acc: 0.7078\n",
            "Epoch 29/50\n",
            "250/250 [==============================] - 1s 3ms/step - loss: 0.4720 - acc: 0.7776 - val_loss: 0.6095 - val_acc: 0.7090\n",
            "Epoch 30/50\n",
            "250/250 [==============================] - 1s 3ms/step - loss: 0.4741 - acc: 0.7747 - val_loss: 0.6316 - val_acc: 0.7045\n",
            "Epoch 31/50\n",
            "250/250 [==============================] - 1s 3ms/step - loss: 0.4715 - acc: 0.7773 - val_loss: 0.6098 - val_acc: 0.7084\n",
            "Epoch 32/50\n",
            "250/250 [==============================] - 1s 3ms/step - loss: 0.4759 - acc: 0.7744 - val_loss: 0.6151 - val_acc: 0.7085\n",
            "Epoch 33/50\n",
            "250/250 [==============================] - 1s 3ms/step - loss: 0.4731 - acc: 0.7780 - val_loss: 0.6262 - val_acc: 0.7053\n",
            "Epoch 34/50\n",
            "250/250 [==============================] - 1s 3ms/step - loss: 0.4725 - acc: 0.7770 - val_loss: 0.6114 - val_acc: 0.7129\n",
            "Epoch 35/50\n",
            "250/250 [==============================] - 1s 3ms/step - loss: 0.4729 - acc: 0.7778 - val_loss: 0.6167 - val_acc: 0.7090\n",
            "Epoch 36/50\n",
            "250/250 [==============================] - 1s 3ms/step - loss: 0.4720 - acc: 0.7770 - val_loss: 0.6154 - val_acc: 0.7086\n",
            "Epoch 37/50\n",
            "250/250 [==============================] - 1s 3ms/step - loss: 0.4726 - acc: 0.7772 - val_loss: 0.6145 - val_acc: 0.7099\n",
            "Epoch 38/50\n",
            "250/250 [==============================] - 1s 3ms/step - loss: 0.4746 - acc: 0.7754 - val_loss: 0.6444 - val_acc: 0.6910\n",
            "Epoch 39/50\n",
            "250/250 [==============================] - 1s 3ms/step - loss: 0.4731 - acc: 0.7765 - val_loss: 0.6170 - val_acc: 0.7055\n",
            "Epoch 40/50\n",
            "250/250 [==============================] - 1s 3ms/step - loss: 0.4685 - acc: 0.7784 - val_loss: 0.6113 - val_acc: 0.7110\n",
            "Epoch 41/50\n",
            "250/250 [==============================] - 1s 3ms/step - loss: 0.4705 - acc: 0.7787 - val_loss: 0.6193 - val_acc: 0.7101\n",
            "Epoch 42/50\n",
            "250/250 [==============================] - 1s 3ms/step - loss: 0.4709 - acc: 0.7782 - val_loss: 0.6159 - val_acc: 0.7094\n",
            "Epoch 43/50\n",
            "250/250 [==============================] - 1s 3ms/step - loss: 0.4721 - acc: 0.7775 - val_loss: 0.6277 - val_acc: 0.7069\n",
            "Epoch 44/50\n",
            "250/250 [==============================] - 1s 3ms/step - loss: 0.4714 - acc: 0.7783 - val_loss: 0.6179 - val_acc: 0.7094\n",
            "Epoch 45/50\n",
            "250/250 [==============================] - 1s 3ms/step - loss: 0.4737 - acc: 0.7757 - val_loss: 0.6194 - val_acc: 0.7085\n",
            "Epoch 46/50\n",
            "250/250 [==============================] - 1s 3ms/step - loss: 0.4727 - acc: 0.7763 - val_loss: 0.6179 - val_acc: 0.7084\n",
            "Epoch 47/50\n",
            "250/250 [==============================] - 1s 3ms/step - loss: 0.4697 - acc: 0.7778 - val_loss: 0.6153 - val_acc: 0.7069\n",
            "Epoch 48/50\n",
            "250/250 [==============================] - 1s 3ms/step - loss: 0.4690 - acc: 0.7800 - val_loss: 0.6130 - val_acc: 0.7117\n",
            "Epoch 49/50\n",
            "250/250 [==============================] - 1s 3ms/step - loss: 0.4736 - acc: 0.7751 - val_loss: 0.6153 - val_acc: 0.7085\n",
            "Epoch 50/50\n",
            "250/250 [==============================] - 1s 3ms/step - loss: 0.4710 - acc: 0.7797 - val_loss: 0.6116 - val_acc: 0.7080\n"
          ]
        }
      ]
    },
    {
      "cell_type": "code",
      "source": [
        "score = model.evaluate(X_test, y_test, verbose=1)"
      ],
      "metadata": {
        "colab": {
          "base_uri": "https://localhost:8080/"
        },
        "id": "4l7FxqMHi7ng",
        "outputId": "9e2c2ddb-b996-44b0-862f-21b84044cc0a"
      },
      "execution_count": null,
      "outputs": [
        {
          "output_type": "stream",
          "name": "stdout",
          "text": [
            "313/313 [==============================] - 1s 2ms/step - loss: 0.6136 - acc: 0.7074\n"
          ]
        }
      ]
    },
    {
      "cell_type": "code",
      "source": [
        "print(\"Test Score:\", score[0])\n",
        "print(\"Test Accuracy:\", score[1])"
      ],
      "metadata": {
        "colab": {
          "base_uri": "https://localhost:8080/"
        },
        "id": "BNdJlC4Ei7kd",
        "outputId": "54bd8d91-1104-4053-acbb-dfa955c6c661"
      },
      "execution_count": null,
      "outputs": [
        {
          "output_type": "stream",
          "name": "stdout",
          "text": [
            "Test Score: 0.6135526299476624\n",
            "Test Accuracy: 0.7074000239372253\n"
          ]
        }
      ]
    },
    {
      "cell_type": "markdown",
      "source": [
        "## Text Classification with a Convolutional Neural Network(1DCNN)"
      ],
      "metadata": {
        "id": "HiYr5VNLHyrB"
      }
    },
    {
      "cell_type": "code",
      "source": [
        "from keras.layers.convolutional import Conv1D\n",
        "model = Sequential()\n",
        "\n",
        "embedding_layer = Embedding(vocab_size, 50, weights=[embedding_matrix], input_length=maxlen , trainable=False)\n",
        "model.add(embedding_layer)\n",
        "\n",
        "model.add(Conv1D(128, 5, activation='relu'))\n",
        "model.add(GlobalMaxPooling1D())\n",
        "model.add(Dense(1, activation='sigmoid'))\n",
        "model.compile(optimizer='adam', loss='binary_crossentropy', metrics=['acc'])"
      ],
      "metadata": {
        "id": "JFwAHjB6jEV0"
      },
      "execution_count": null,
      "outputs": []
    },
    {
      "cell_type": "code",
      "source": [
        "print(model.summary())"
      ],
      "metadata": {
        "colab": {
          "base_uri": "https://localhost:8080/"
        },
        "id": "IgY_2gRzjMPP",
        "outputId": "b98662f8-ae56-423a-a23b-22839739330c"
      },
      "execution_count": null,
      "outputs": [
        {
          "output_type": "stream",
          "name": "stdout",
          "text": [
            "Model: \"sequential_2\"\n",
            "_________________________________________________________________\n",
            " Layer (type)                Output Shape              Param #   \n",
            "=================================================================\n",
            " embedding_2 (Embedding)     (None, 100, 50)           4627350   \n",
            "                                                                 \n",
            " conv1d (Conv1D)             (None, 96, 128)           32128     \n",
            "                                                                 \n",
            " global_max_pooling1d (Globa  (None, 128)              0         \n",
            " lMaxPooling1D)                                                  \n",
            "                                                                 \n",
            " dense_1 (Dense)             (None, 1)                 129       \n",
            "                                                                 \n",
            "=================================================================\n",
            "Total params: 4,659,607\n",
            "Trainable params: 32,257\n",
            "Non-trainable params: 4,627,350\n",
            "_________________________________________________________________\n",
            "None\n"
          ]
        }
      ]
    },
    {
      "cell_type": "code",
      "source": [
        "history = model.fit(X_train, y_train, batch_size=128, epochs=50,  validation_split=0.2) # training is done \n",
        "\n",
        "score = model.evaluate(X_test, y_test) #testing is done "
      ],
      "metadata": {
        "colab": {
          "base_uri": "https://localhost:8080/"
        },
        "id": "WksfyPAxjNQf",
        "outputId": "58ae772d-a0ee-4cea-8374-62c592de1600"
      },
      "execution_count": null,
      "outputs": [
        {
          "output_type": "stream",
          "name": "stdout",
          "text": [
            "Epoch 1/50\n",
            "250/250 [==============================] - 13s 49ms/step - loss: 0.5381 - acc: 0.7303 - val_loss: 0.4374 - val_acc: 0.8006\n",
            "Epoch 2/50\n",
            "250/250 [==============================] - 12s 49ms/step - loss: 0.4154 - acc: 0.8115 - val_loss: 0.4050 - val_acc: 0.8133\n",
            "Epoch 3/50\n",
            "250/250 [==============================] - 12s 49ms/step - loss: 0.3753 - acc: 0.8348 - val_loss: 0.3874 - val_acc: 0.8229\n",
            "Epoch 4/50\n",
            "250/250 [==============================] - 12s 49ms/step - loss: 0.3433 - acc: 0.8512 - val_loss: 0.3818 - val_acc: 0.8274\n",
            "Epoch 5/50\n",
            "250/250 [==============================] - 12s 48ms/step - loss: 0.3140 - acc: 0.8677 - val_loss: 0.3750 - val_acc: 0.8326\n",
            "Epoch 6/50\n",
            "250/250 [==============================] - 12s 49ms/step - loss: 0.2888 - acc: 0.8825 - val_loss: 0.3714 - val_acc: 0.8328\n",
            "Epoch 7/50\n",
            "250/250 [==============================] - 12s 49ms/step - loss: 0.2683 - acc: 0.8941 - val_loss: 0.3771 - val_acc: 0.8276\n",
            "Epoch 8/50\n",
            "250/250 [==============================] - 12s 49ms/step - loss: 0.2459 - acc: 0.9058 - val_loss: 0.3801 - val_acc: 0.8292\n",
            "Epoch 9/50\n",
            "250/250 [==============================] - 12s 48ms/step - loss: 0.2267 - acc: 0.9157 - val_loss: 0.3783 - val_acc: 0.8306\n",
            "Epoch 10/50\n",
            "250/250 [==============================] - 12s 48ms/step - loss: 0.2089 - acc: 0.9257 - val_loss: 0.3902 - val_acc: 0.8279\n",
            "Epoch 11/50\n",
            "250/250 [==============================] - 12s 49ms/step - loss: 0.1939 - acc: 0.9328 - val_loss: 0.3941 - val_acc: 0.8271\n",
            "Epoch 12/50\n",
            "250/250 [==============================] - 12s 48ms/step - loss: 0.1798 - acc: 0.9393 - val_loss: 0.3951 - val_acc: 0.8270\n",
            "Epoch 13/50\n",
            "250/250 [==============================] - 12s 48ms/step - loss: 0.1643 - acc: 0.9479 - val_loss: 0.4056 - val_acc: 0.8241\n",
            "Epoch 14/50\n",
            "250/250 [==============================] - 12s 48ms/step - loss: 0.1516 - acc: 0.9544 - val_loss: 0.4115 - val_acc: 0.8250\n",
            "Epoch 15/50\n",
            "250/250 [==============================] - 12s 48ms/step - loss: 0.1388 - acc: 0.9603 - val_loss: 0.4197 - val_acc: 0.8229\n",
            "Epoch 16/50\n",
            "250/250 [==============================] - 12s 48ms/step - loss: 0.1335 - acc: 0.9620 - val_loss: 0.4274 - val_acc: 0.8251\n",
            "Epoch 17/50\n",
            "250/250 [==============================] - 12s 48ms/step - loss: 0.1193 - acc: 0.9693 - val_loss: 0.4357 - val_acc: 0.8227\n",
            "Epoch 18/50\n",
            "250/250 [==============================] - 12s 49ms/step - loss: 0.1105 - acc: 0.9733 - val_loss: 0.4441 - val_acc: 0.8232\n",
            "Epoch 19/50\n",
            "250/250 [==============================] - 12s 49ms/step - loss: 0.0994 - acc: 0.9784 - val_loss: 0.4520 - val_acc: 0.8214\n",
            "Epoch 20/50\n",
            "250/250 [==============================] - 12s 48ms/step - loss: 0.0923 - acc: 0.9815 - val_loss: 0.4636 - val_acc: 0.8216\n",
            "Epoch 21/50\n",
            "250/250 [==============================] - 12s 49ms/step - loss: 0.0871 - acc: 0.9833 - val_loss: 0.4734 - val_acc: 0.8176\n",
            "Epoch 22/50\n",
            "250/250 [==============================] - 12s 48ms/step - loss: 0.0774 - acc: 0.9878 - val_loss: 0.4846 - val_acc: 0.8177\n",
            "Epoch 23/50\n",
            "250/250 [==============================] - 12s 49ms/step - loss: 0.0741 - acc: 0.9880 - val_loss: 0.5059 - val_acc: 0.8155\n",
            "Epoch 24/50\n",
            "250/250 [==============================] - 12s 48ms/step - loss: 0.0647 - acc: 0.9921 - val_loss: 0.5099 - val_acc: 0.8174\n",
            "Epoch 25/50\n",
            "250/250 [==============================] - 12s 48ms/step - loss: 0.0603 - acc: 0.9934 - val_loss: 0.5184 - val_acc: 0.8186\n",
            "Epoch 26/50\n",
            "250/250 [==============================] - 12s 48ms/step - loss: 0.0553 - acc: 0.9950 - val_loss: 0.5254 - val_acc: 0.8163\n",
            "Epoch 27/50\n",
            "250/250 [==============================] - 12s 48ms/step - loss: 0.0519 - acc: 0.9952 - val_loss: 0.5586 - val_acc: 0.8120\n",
            "Epoch 28/50\n",
            "250/250 [==============================] - 12s 48ms/step - loss: 0.0464 - acc: 0.9971 - val_loss: 0.5490 - val_acc: 0.8160\n",
            "Epoch 29/50\n",
            "250/250 [==============================] - 12s 48ms/step - loss: 0.0408 - acc: 0.9983 - val_loss: 0.5653 - val_acc: 0.8142\n",
            "Epoch 30/50\n",
            "250/250 [==============================] - 12s 48ms/step - loss: 0.0373 - acc: 0.9986 - val_loss: 0.5775 - val_acc: 0.8154\n",
            "Epoch 31/50\n",
            "250/250 [==============================] - 12s 49ms/step - loss: 0.0360 - acc: 0.9985 - val_loss: 0.5981 - val_acc: 0.8125\n",
            "Epoch 32/50\n",
            "250/250 [==============================] - 12s 48ms/step - loss: 0.0326 - acc: 0.9989 - val_loss: 0.5984 - val_acc: 0.8148\n",
            "Epoch 33/50\n",
            "250/250 [==============================] - 12s 49ms/step - loss: 0.0312 - acc: 0.9990 - val_loss: 0.6124 - val_acc: 0.8140\n",
            "Epoch 34/50\n",
            "250/250 [==============================] - 12s 48ms/step - loss: 0.0263 - acc: 0.9996 - val_loss: 0.6224 - val_acc: 0.8129\n",
            "Epoch 35/50\n",
            "250/250 [==============================] - 12s 49ms/step - loss: 0.0231 - acc: 0.9998 - val_loss: 0.6350 - val_acc: 0.8152\n",
            "Epoch 36/50\n",
            "250/250 [==============================] - 12s 49ms/step - loss: 0.0213 - acc: 0.9997 - val_loss: 0.6458 - val_acc: 0.8133\n",
            "Epoch 37/50\n",
            "250/250 [==============================] - 12s 48ms/step - loss: 0.0197 - acc: 0.9999 - val_loss: 0.6619 - val_acc: 0.8133\n",
            "Epoch 38/50\n",
            "250/250 [==============================] - 12s 48ms/step - loss: 0.0177 - acc: 0.9998 - val_loss: 0.6769 - val_acc: 0.8108\n",
            "Epoch 39/50\n",
            "250/250 [==============================] - 12s 48ms/step - loss: 0.0169 - acc: 1.0000 - val_loss: 0.6833 - val_acc: 0.8125\n",
            "Epoch 40/50\n",
            "250/250 [==============================] - 12s 48ms/step - loss: 0.0155 - acc: 0.9999 - val_loss: 0.7021 - val_acc: 0.8117\n",
            "Epoch 41/50\n",
            "250/250 [==============================] - 12s 49ms/step - loss: 0.0141 - acc: 1.0000 - val_loss: 0.7072 - val_acc: 0.8130\n",
            "Epoch 42/50\n",
            "250/250 [==============================] - 12s 49ms/step - loss: 0.0126 - acc: 1.0000 - val_loss: 0.7307 - val_acc: 0.8111\n",
            "Epoch 43/50\n",
            "250/250 [==============================] - 12s 50ms/step - loss: 0.0114 - acc: 1.0000 - val_loss: 0.7514 - val_acc: 0.8102\n",
            "Epoch 44/50\n",
            "250/250 [==============================] - 12s 50ms/step - loss: 0.0105 - acc: 0.9999 - val_loss: 0.7764 - val_acc: 0.8104\n",
            "Epoch 45/50\n",
            "250/250 [==============================] - 12s 49ms/step - loss: 0.0096 - acc: 1.0000 - val_loss: 0.7671 - val_acc: 0.8124\n",
            "Epoch 46/50\n",
            "250/250 [==============================] - 12s 49ms/step - loss: 0.0082 - acc: 1.0000 - val_loss: 0.7767 - val_acc: 0.8114\n",
            "Epoch 47/50\n",
            "250/250 [==============================] - 12s 49ms/step - loss: 0.0073 - acc: 1.0000 - val_loss: 0.7907 - val_acc: 0.8117\n",
            "Epoch 48/50\n",
            "250/250 [==============================] - 12s 49ms/step - loss: 0.0069 - acc: 1.0000 - val_loss: 0.8044 - val_acc: 0.8114\n",
            "Epoch 49/50\n",
            "250/250 [==============================] - 12s 49ms/step - loss: 0.0062 - acc: 1.0000 - val_loss: 0.8206 - val_acc: 0.8114\n",
            "Epoch 50/50\n",
            "250/250 [==============================] - 12s 49ms/step - loss: 0.0060 - acc: 1.0000 - val_loss: 0.8397 - val_acc: 0.8112\n",
            "313/313 [==============================] - 2s 6ms/step - loss: 0.8067 - acc: 0.8205\n"
          ]
        }
      ]
    },
    {
      "cell_type": "code",
      "source": [
        "print(\"Test Score:\", score[0])\n",
        "print(\"Test Accuracy:\", score[1])"
      ],
      "metadata": {
        "colab": {
          "base_uri": "https://localhost:8080/"
        },
        "id": "wfhXgZOIjNTX",
        "outputId": "7f9969aa-1c7c-40e6-acaf-56c1e0bf850d"
      },
      "execution_count": null,
      "outputs": [
        {
          "output_type": "stream",
          "name": "stdout",
          "text": [
            "Test Score: 0.8067252039909363\n",
            "Test Accuracy: 0.8205000162124634\n"
          ]
        }
      ]
    },
    {
      "cell_type": "markdown",
      "source": [
        "## Text Classification with Recurrent Neural Network (LSTM)"
      ],
      "metadata": {
        "id": "kjre9g1pE1u3"
      }
    },
    {
      "cell_type": "code",
      "source": [
        "from keras.layers.core import Dense, Activation, Dropout\n",
        "from keras.layers.recurrent import LSTM\n",
        "from keras.models import Sequential\n",
        "\n",
        "model = Sequential()\n",
        "embedding_layer = Embedding(vocab_size, 50, weights=[embedding_matrix], input_length=maxlen , trainable=False)\n",
        "model.add(embedding_layer)\n",
        "model.add(LSTM(128))\n",
        "\n",
        "model.add(Dense(1, activation='sigmoid'))\n",
        "model.compile(optimizer='adam', loss='binary_crossentropy', metrics=['acc'])"
      ],
      "metadata": {
        "id": "uXrGURkejUVM"
      },
      "execution_count": null,
      "outputs": []
    },
    {
      "cell_type": "code",
      "source": [
        "print(model.summary())"
      ],
      "metadata": {
        "colab": {
          "base_uri": "https://localhost:8080/"
        },
        "id": "UjdAiBuUjUP5",
        "outputId": "65fa551e-6225-495c-916e-2e9a544087fa"
      },
      "execution_count": null,
      "outputs": [
        {
          "output_type": "stream",
          "name": "stdout",
          "text": [
            "Model: \"sequential_4\"\n",
            "_________________________________________________________________\n",
            " Layer (type)                Output Shape              Param #   \n",
            "=================================================================\n",
            " embedding_4 (Embedding)     (None, 100, 50)           4627350   \n",
            "                                                                 \n",
            " lstm (LSTM)                 (None, 128)               91648     \n",
            "                                                                 \n",
            " dense_2 (Dense)             (None, 1)                 129       \n",
            "                                                                 \n",
            "=================================================================\n",
            "Total params: 4,719,127\n",
            "Trainable params: 91,777\n",
            "Non-trainable params: 4,627,350\n",
            "_________________________________________________________________\n",
            "None\n"
          ]
        }
      ]
    },
    {
      "cell_type": "code",
      "source": [
        "history = model.fit(X_train, y_train, batch_size=128, epochs=25, verbose=1, validation_split=0.2)\n",
        "\n",
        "score = model.evaluate(X_test, y_test, verbose=1)"
      ],
      "metadata": {
        "colab": {
          "base_uri": "https://localhost:8080/"
        },
        "id": "Zu6JBSM2jUMg",
        "outputId": "15fffcc1-a357-4e94-9d75-527b2c46f013"
      },
      "execution_count": null,
      "outputs": [
        {
          "output_type": "stream",
          "name": "stdout",
          "text": [
            "Epoch 1/25\n",
            "250/250 [==============================] - 84s 327ms/step - loss: 0.5917 - acc: 0.6823 - val_loss: 0.5272 - val_acc: 0.7320\n",
            "Epoch 2/25\n",
            "250/250 [==============================] - 82s 328ms/step - loss: 0.4876 - acc: 0.7658 - val_loss: 0.4543 - val_acc: 0.7856\n",
            "Epoch 3/25\n",
            "250/250 [==============================] - 82s 328ms/step - loss: 0.4471 - acc: 0.7922 - val_loss: 0.4212 - val_acc: 0.8067\n",
            "Epoch 4/25\n",
            "250/250 [==============================] - 81s 326ms/step - loss: 0.4211 - acc: 0.8091 - val_loss: 0.3934 - val_acc: 0.8240\n",
            "Epoch 5/25\n",
            "250/250 [==============================] - 82s 326ms/step - loss: 0.3967 - acc: 0.8190 - val_loss: 0.3932 - val_acc: 0.8199\n",
            "Epoch 6/25\n",
            "250/250 [==============================] - 82s 327ms/step - loss: 0.3781 - acc: 0.8312 - val_loss: 0.3826 - val_acc: 0.8296\n",
            "Epoch 7/25\n",
            "250/250 [==============================] - 82s 327ms/step - loss: 0.3618 - acc: 0.8404 - val_loss: 0.3673 - val_acc: 0.8339\n",
            "Epoch 8/25\n",
            "250/250 [==============================] - 82s 326ms/step - loss: 0.3501 - acc: 0.8441 - val_loss: 0.3706 - val_acc: 0.8338\n",
            "Epoch 9/25\n",
            "250/250 [==============================] - 82s 326ms/step - loss: 0.3369 - acc: 0.8515 - val_loss: 0.3541 - val_acc: 0.8440\n",
            "Epoch 10/25\n",
            "250/250 [==============================] - 82s 327ms/step - loss: 0.3237 - acc: 0.8586 - val_loss: 0.3519 - val_acc: 0.8456\n",
            "Epoch 11/25\n",
            "250/250 [==============================] - 84s 336ms/step - loss: 0.3082 - acc: 0.8671 - val_loss: 0.3643 - val_acc: 0.8388\n",
            "Epoch 12/25\n",
            "250/250 [==============================] - 82s 328ms/step - loss: 0.2952 - acc: 0.8738 - val_loss: 0.3806 - val_acc: 0.8288\n",
            "Epoch 13/25\n",
            "250/250 [==============================] - 82s 327ms/step - loss: 0.2803 - acc: 0.8813 - val_loss: 0.3811 - val_acc: 0.8329\n",
            "Epoch 14/25\n",
            "250/250 [==============================] - 82s 328ms/step - loss: 0.2644 - acc: 0.8903 - val_loss: 0.3867 - val_acc: 0.8366\n",
            "Epoch 15/25\n",
            "250/250 [==============================] - 82s 329ms/step - loss: 0.2475 - acc: 0.8976 - val_loss: 0.3815 - val_acc: 0.8397\n",
            "Epoch 16/25\n",
            "250/250 [==============================] - 82s 328ms/step - loss: 0.2266 - acc: 0.9066 - val_loss: 0.4048 - val_acc: 0.8305\n",
            "Epoch 17/25\n",
            "250/250 [==============================] - 82s 329ms/step - loss: 0.2102 - acc: 0.9163 - val_loss: 0.4019 - val_acc: 0.8399\n",
            "Epoch 18/25\n",
            "250/250 [==============================] - 82s 330ms/step - loss: 0.1918 - acc: 0.9246 - val_loss: 0.4217 - val_acc: 0.8370\n",
            "Epoch 19/25\n",
            "250/250 [==============================] - 84s 335ms/step - loss: 0.1702 - acc: 0.9349 - val_loss: 0.4415 - val_acc: 0.8334\n",
            "Epoch 20/25\n",
            "250/250 [==============================] - 82s 326ms/step - loss: 0.1486 - acc: 0.9434 - val_loss: 0.4632 - val_acc: 0.8305\n",
            "Epoch 21/25\n",
            "250/250 [==============================] - 82s 328ms/step - loss: 0.1287 - acc: 0.9532 - val_loss: 0.5282 - val_acc: 0.8310\n",
            "Epoch 22/25\n",
            "250/250 [==============================] - 82s 328ms/step - loss: 0.1248 - acc: 0.9544 - val_loss: 0.5565 - val_acc: 0.8350\n",
            "Epoch 23/25\n",
            "250/250 [==============================] - 82s 327ms/step - loss: 0.1063 - acc: 0.9627 - val_loss: 0.5844 - val_acc: 0.8294\n",
            "Epoch 24/25\n",
            "250/250 [==============================] - 82s 328ms/step - loss: 0.0848 - acc: 0.9706 - val_loss: 0.6245 - val_acc: 0.8250\n",
            "Epoch 25/25\n",
            "250/250 [==============================] - 82s 329ms/step - loss: 0.0839 - acc: 0.9717 - val_loss: 0.6043 - val_acc: 0.8289\n",
            "313/313 [==============================] - 10s 33ms/step - loss: 0.5907 - acc: 0.8266\n"
          ]
        }
      ]
    },
    {
      "cell_type": "code",
      "source": [
        "print(\"Test Score:\", score[0])\n",
        "print(\"Test Accuracy:\", score[1])"
      ],
      "metadata": {
        "colab": {
          "base_uri": "https://localhost:8080/"
        },
        "id": "3pcw8fVPjRUC",
        "outputId": "e636efe0-53c6-43a4-e96a-5b19ccfc62d2"
      },
      "execution_count": null,
      "outputs": [
        {
          "output_type": "stream",
          "name": "stdout",
          "text": [
            "Test Score: 0.5906937718391418\n",
            "Test Accuracy: 0.8266000151634216\n"
          ]
        }
      ]
    },
    {
      "cell_type": "code",
      "source": [
        ""
      ],
      "metadata": {
        "id": "IsmLnYIDjlD2"
      },
      "execution_count": null,
      "outputs": []
    },
    {
      "cell_type": "code",
      "source": [
        ""
      ],
      "metadata": {
        "id": "kJsZ3N9_jlAj"
      },
      "execution_count": null,
      "outputs": []
    }
  ]
}